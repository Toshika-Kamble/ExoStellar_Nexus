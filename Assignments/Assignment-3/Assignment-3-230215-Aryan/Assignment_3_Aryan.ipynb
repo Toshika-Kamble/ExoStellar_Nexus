{
 "cells": [
  {
   "cell_type": "code",
   "execution_count": 66,
   "id": "ed8ca7f6-2112-4872-a5b6-ad84996f1b1b",
   "metadata": {
    "tags": []
   },
   "outputs": [
    {
     "data": {
      "text/plain": [
       "True"
      ]
     },
     "execution_count": 66,
     "metadata": {},
     "output_type": "execute_result"
    }
   ],
   "source": [
    "import cv2 \n",
    "import numpy as np\n",
    "\n",
    "img=cv2.imread('input/virgo/Virgo-Input-230215-0.jpg')\n",
    "\n",
    "# cv2.imshow('original',img)\n",
    "# cv2.waitKey(0)\n",
    "\n",
    "gray=cv2.cvtColor(img,cv2.COLOR_BGR2GRAY)\n",
    "#gray=gray*(65/50000)\n",
    "# cv2.imshow('gray',gray)\n",
    "# cv2.waitKey(0)\n",
    "expo_f = 0.75\n",
    "exposed = cv2.convertScaleAbs(gray, alpha=expo_f, beta=0)\n",
    "# cv2.imshow('exposed',exposed)\n",
    "# cv2.waitKey(0)\n",
    "dst = cv2.fastNlMeansDenoising(exposed,None,10,7,15)\n",
    "# cv2.imshow('denoise',dst)\n",
    "# cv2.waitKey(0)\n",
    "filter=np.array([[0,-1,0],\n",
    "                [-1,5,-1],\n",
    "                [0,-1,0]])\n",
    "\n",
    "sharpened=cv2.filter2D(dst,-1,filter)\n",
    "# cv2.imshow('sharpened',sharpened)\n",
    "# cv2.waitKey(0)\n",
    "\n",
    "\n",
    "_, thresh = cv2.threshold(sharpened, 175, 255, cv2.THRESH_BINARY)\n",
    "cv2.imshow('thresh',thresh)\n",
    "cv2.waitKey(0)\n",
    " cv2.imwrite(\"output/virgo/Virgo-Output-230215-0.jpg\",thresh)"
   ]
  },
  {
   "cell_type": "code",
   "execution_count": 15,
   "id": "49e2c16c-9ce3-47e6-a2c2-bdd42a82f99e",
   "metadata": {},
   "outputs": [
    {
     "ename": "NameError",
     "evalue": "name 'image_folder' is not defined",
     "output_type": "error",
     "traceback": [
      "\u001b[1;31m---------------------------------------------------------------------------\u001b[0m",
      "\u001b[1;31mNameError\u001b[0m                                 Traceback (most recent call last)",
      "Cell \u001b[1;32mIn[15], line 11\u001b[0m\n\u001b[0;32m      7\u001b[0m folder_path \u001b[38;5;241m=\u001b[39m \u001b[38;5;124m'\u001b[39m\u001b[38;5;124minput/hercules\u001b[39m\u001b[38;5;124m'\u001b[39m\n\u001b[0;32m      9\u001b[0m image_extensions \u001b[38;5;241m=\u001b[39m (\u001b[38;5;124m'\u001b[39m\u001b[38;5;124m.jpg\u001b[39m\u001b[38;5;124m'\u001b[39m)\n\u001b[1;32m---> 11\u001b[0m \u001b[38;5;28;01mfor\u001b[39;00m filename \u001b[38;5;129;01min\u001b[39;00m os\u001b[38;5;241m.\u001b[39mlistdir(image_folder):\n\u001b[0;32m     12\u001b[0m     \u001b[38;5;66;03m# Check if the file is an image (e.g., ends with .jpg, .png)\u001b[39;00m\n\u001b[0;32m     13\u001b[0m     \u001b[38;5;28;01mif\u001b[39;00m filename\u001b[38;5;241m.\u001b[39mendswith((\u001b[38;5;124m'\u001b[39m\u001b[38;5;124m.jpg\u001b[39m\u001b[38;5;124m'\u001b[39m, \u001b[38;5;124m'\u001b[39m\u001b[38;5;124m.jpeg\u001b[39m\u001b[38;5;124m'\u001b[39m, \u001b[38;5;124m'\u001b[39m\u001b[38;5;124m.png\u001b[39m\u001b[38;5;124m'\u001b[39m, \u001b[38;5;124m'\u001b[39m\u001b[38;5;124m.gif\u001b[39m\u001b[38;5;124m'\u001b[39m, \u001b[38;5;124m'\u001b[39m\u001b[38;5;124m.bmp\u001b[39m\u001b[38;5;124m'\u001b[39m)):\n\u001b[0;32m     14\u001b[0m         \u001b[38;5;66;03m# Get the full file path\u001b[39;00m\n\u001b[0;32m     15\u001b[0m         file_path \u001b[38;5;241m=\u001b[39m os\u001b[38;5;241m.\u001b[39mpath\u001b[38;5;241m.\u001b[39mjoin(image_folder, filename)\n",
      "\u001b[1;31mNameError\u001b[0m: name 'image_folder' is not defined"
     ]
    }
   ],
   "source": [
    "import os\n",
    "from PIL import Image\n",
    "import cv2 \n",
    "import numpy as np\n",
    "\n",
    "\n",
    "folder_path = 'input/hercules'\n",
    "\n",
    "image_extensions = ('.jpg')\n",
    "\n",
    "for filename in os.listdir(image_folder):\n",
    "    # Check if the file is an image (e.g., ends with .jpg, .png)\n",
    "    if filename.endswith(('.jpg', '.jpeg', '.png', '.gif', '.bmp')):\n",
    "        # Get the full file path\n",
    "        file_path = os.path.join(image_folder, filename)\n",
    "\n",
    "        with Image.open(image_path) as img:\n",
    "            # cv2.imshow('original',img)# cv2.waitKey(0)\n",
    "            gray=cv2.cvtColor(img,cv2.COLOR_BGR2GRAY)\n",
    "            #gray=gray*(65/50000)\n",
    "            # cv2.imshow('gray',gray)\n",
    "            # cv2.waitKey(0)\n",
    "            expo_f = 0.75\n",
    "            exposed = cv2.convertScaleAbs(gray, alpha=expo_f, beta=0)\n",
    "            # cv2.imshow('exposed',exposed)\n",
    "            # cv2.waitKey(0)\n",
    "            dst = cv2.fastNlMeansDenoising(exposed,None,10,7,15)\n",
    "            # cv2.imshow('denoise',dst)\n",
    "            # cv2.waitKey(0)\n",
    "            filter=np.array([[0,-1,0],\n",
    "                [-1,5,-1],\n",
    "                [0,-1,0]])\n",
    "            sharpened=cv2.filter2D(dst,-1,filter)\n",
    "            # cv2.imshow('sharpened',sharpened)\n",
    "            # cv2.waitKey(0)\n",
    "            _, thresh = cv2.threshold(sharpened, 175, 255, cv2.THRESH_BINARY)\n",
    "            # cv2.imshow('thresh',thresh)\n",
    "            # cv2.waitKey(0)\n",
    "            cv2.imwrite(\"output/hercules/Hercules-Output-230215-0.jpg\",thresh)\n",
    "\n",
    "\n",
    "           "
   ]
  },
  {
   "cell_type": "code",
   "execution_count": null,
   "id": "4ed7ec87-73c0-4314-8df0-96657c748911",
   "metadata": {},
   "outputs": [],
   "source": []
  },
  {
   "cell_type": "code",
   "execution_count": null,
   "id": "0cd35d29-d924-4140-b289-c65ba941849c",
   "metadata": {},
   "outputs": [],
   "source": []
  }
 ],
 "metadata": {
  "kernelspec": {
   "display_name": "Python 3 (ipykernel)",
   "language": "python",
   "name": "python3"
  },
  "language_info": {
   "codemirror_mode": {
    "name": "ipython",
    "version": 3
   },
   "file_extension": ".py",
   "mimetype": "text/x-python",
   "name": "python",
   "nbconvert_exporter": "python",
   "pygments_lexer": "ipython3",
   "version": "3.11.5"
  }
 },
 "nbformat": 4,
 "nbformat_minor": 5
}
